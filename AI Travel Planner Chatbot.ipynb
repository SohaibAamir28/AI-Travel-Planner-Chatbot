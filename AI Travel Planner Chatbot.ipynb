{
  "nbformat": 4,
  "nbformat_minor": 0,
  "metadata": {
    "colab": {
      "provenance": []
    },
    "kernelspec": {
      "name": "python3",
      "display_name": "Python 3"
    },
    "language_info": {
      "name": "python"
    }
  },
  "cells": [
    {
      "cell_type": "code",
      "execution_count": null,
      "metadata": {
        "id": "VwWz0aHklAxq",
        "colab": {
          "base_uri": "https://localhost:8080/"
        },
        "outputId": "303c3e64-fcac-4955-c73a-6e50471de1e3"
      },
      "outputs": [
        {
          "output_type": "stream",
          "name": "stdout",
          "text": [
            "\u001b[?25l   \u001b[90m━━━━━━━━━━━━━━━━━━━━━━━━━━━━━━━━━━━━━━━━\u001b[0m \u001b[32m0.0/125.1 kB\u001b[0m \u001b[31m?\u001b[0m eta \u001b[36m-:--:--\u001b[0m\r\u001b[2K   \u001b[90m━━━━━━━━━━━━━━━━━━━━━━━━━━━━━━━━━━━━━━━━\u001b[0m \u001b[32m125.1/125.1 kB\u001b[0m \u001b[31m4.1 MB/s\u001b[0m eta \u001b[36m0:00:00\u001b[0m\n",
            "\u001b[2K   \u001b[90m━━━━━━━━━━━━━━━━━━━━━━━━━━━━━━━━━━━━━━━━\u001b[0m \u001b[32m41.3/41.3 kB\u001b[0m \u001b[31m2.4 MB/s\u001b[0m eta \u001b[36m0:00:00\u001b[0m\n",
            "\u001b[2K   \u001b[90m━━━━━━━━━━━━━━━━━━━━━━━━━━━━━━━━━━━━━━━━\u001b[0m \u001b[32m1.0/1.0 MB\u001b[0m \u001b[31m10.1 MB/s\u001b[0m eta \u001b[36m0:00:00\u001b[0m\n",
            "\u001b[2K   \u001b[90m━━━━━━━━━━━━━━━━━━━━━━━━━━━━━━━━━━━━━━━━\u001b[0m \u001b[32m409.5/409.5 kB\u001b[0m \u001b[31m6.9 MB/s\u001b[0m eta \u001b[36m0:00:00\u001b[0m\n",
            "\u001b[?25h"
          ]
        }
      ],
      "source": [
        "!pip install --quiet --upgrade langgraph langchain_google_genai langchain"
      ]
    },
    {
      "cell_type": "code",
      "source": [
        "import google.generativeai as gena\n",
        "from google.colab import userdata\n",
        "from langchain_core.prompts import ChatPromptTemplate\n",
        "import os\n",
        "import google.generativeai as genai\n",
        "from langchain_google_genai import GoogleGenerativeAI\n",
        "\n",
        "GEMINI_API_KEY = userdata.get(\"GEMINI_API_KEY\")\n",
        "\n",
        "genai.configure(api_key=GEMINI_API_KEY)\n",
        "\n",
        "model = genai.GenerativeModel(\"gemini-1.5-flash\")\n",
        "\n",
        "llm = GoogleGenerativeAI(google_api_key=GEMINI_API_KEY, model=\"gemini-1.5-flash\")\n",
        "llm.invoke(\"hello\")"
      ],
      "metadata": {
        "colab": {
          "base_uri": "https://localhost:8080/",
          "height": 35
        },
        "id": "GVpTEECwlrg4",
        "outputId": "4bd71f09-d3ff-469d-f673-da1b981267af"
      },
      "execution_count": null,
      "outputs": [
        {
          "output_type": "execute_result",
          "data": {
            "text/plain": [
              "'Hello there! How can I help you today?\\n'"
            ],
            "application/vnd.google.colaboratory.intrinsic+json": {
              "type": "string"
            }
          },
          "metadata": {},
          "execution_count": 2
        }
      ]
    },
    {
      "cell_type": "code",
      "source": [
        "from typing import TypedDict\n",
        "from langgraph.graph import StateGraph, END\n",
        "\n",
        "from IPython.display import Image, display, Markdown\n",
        "\n",
        "\n",
        "class Trip (TypedDict):\n",
        "  city_name: str\n",
        "  interest : str\n",
        "  budget : str\n",
        "  duration : str\n",
        "  ai_response : str\n",
        "\n",
        "def node_1(state:Trip)->Trip:\n",
        "  state[\"city_name\"] = input(\"Enter city name  \")\n",
        "  return state\n",
        "\n",
        "def node_2(state:Trip)->Trip:\n",
        "  state[\"interest\"] = input(\"Enter interest of your trip  \")\n",
        "  return state\n",
        "\n",
        "def node_3(state:Trip)->Trip:\n",
        "  state[\"budget\"] = input(\"Enter your budget with currency  \")\n",
        "  return state\n",
        "\n",
        "def node_4(state:Trip)->Trip:\n",
        "  state[\"duration\"] = input(\"Enter the duration of your trip  \")\n",
        "  return state\n",
        "\n",
        "\n",
        "def node_5(state:Trip)->Trip:\n",
        "  prompt = ChatPromptTemplate.from_template(\n",
        "    \"\"\"You are good AI Assistant. When user provide {city}, its{interest}, its{cost} and its{time} generate a personalized trip itinerary.\n",
        "    Provide itinerary according to the budget given below by user.\"\"\")\n",
        "  result = llm.invoke(prompt.format(city=state[\"city_name\"],cost = state[\"budget\"],interest = state[\"interest\"],time = state[\"duration\"]))\n",
        "  state[\"ai_response\"] = result\n",
        "  display(Markdown(state[\"ai_response\"]))\n",
        "  return state\n",
        "\n",
        "workflow = StateGraph(Trip)\n",
        "\n",
        "workflow.add_node(\"city_input\", node_1)\n",
        "workflow.add_node(\"interest_input\", node_2)\n",
        "workflow.add_node(\"budget_input\", node_3)\n",
        "workflow.add_node(\"duration_input\", node_4)\n",
        "workflow.add_node(\"itinerary_input\", node_5)\n",
        "\n",
        "workflow.set_entry_point(\"city_input\")\n",
        "workflow.add_edge(\"city_input\", \"interest_input\")\n",
        "workflow.add_edge(\"interest_input\", \"budget_input\")\n",
        "workflow.add_edge(\"budget_input\", \"duration_input\")\n",
        "workflow.add_edge(\"duration_input\", \"itinerary_input\")\n",
        "workflow.add_edge(\"itinerary_input\", END)\n",
        "\n",
        "graph = workflow.compile()\n",
        "display(Image(graph.get_graph().draw_mermaid_png()))\n",
        "\n",
        "\n",
        "\n",
        "\n",
        "\n",
        "\n"
      ],
      "metadata": {
        "colab": {
          "base_uri": "https://localhost:8080/",
          "height": 647
        },
        "id": "r--Zz1pVmFp4",
        "outputId": "4a9073d3-14be-4b27-9f88-f4d011797442"
      },
      "execution_count": null,
      "outputs": [
        {
          "output_type": "display_data",
          "data": {
            "image/png": "[encoded data removed]",
            "text/plain": [
              "<IPython.core.display.Image object>"
            ]
          },
          "metadata": {}
        }
      ]
    },
    {
      "cell_type": "code",
      "source": [
        "state : Trip = {\"city_name\":\"\",\"interset\":\"\",\"budget\":\"\",\"duration\":\"\",\"ai_response\":\"\"}\n",
        "\n",
        "app = graph.invoke(state)\n",
        "\n",
        "# from IPython.display import Markdown\n",
        "# state = node_1(state)\n",
        "# state = node_2(state)\n",
        "# state = node_3(state)\n",
        "# state = node_4(state)\n",
        "# state = node_5(state)\n"
      ],
      "metadata": {
        "colab": {
          "base_uri": "https://localhost:8080/",
          "height": 613
        },
        "id": "LzlAmFmT5cfU",
        "outputId": "f2dcd6be-aae6-4282-e395-2acb5ee6185f"
      },
      "execution_count": null,
      "outputs": [
        {
          "name": "stdout",
          "output_type": "stream",
          "text": [
            "Enter city name  rawalpindi\n",
            "Enter interest of your trip  food\n",
            "Enter your budget with currency  1000rs\n",
            "Enter the duration of your trip  2 days\n"
          ]
        },
        {
          "output_type": "display_data",
          "data": {
            "text/plain": [
              "<IPython.core.display.Markdown object>"
            ],
            "text/markdown": "## Personalized Rawalpindi Trip Itinerary:\n\n**Budget:** 1000rs\n\n**Duration:** 2 days\n\n**Location:** Rawalpindi, Pakistan\n\n**Interests:** Food\n\n**Day 1:**\n\n* **Morning:** Start your day with a hearty breakfast at **\"The Monal\"**, a popular restaurant offering stunning views of the city. Enjoy their traditional Pakistani dishes like Halwa Puri, Nihari, and Qeema. (Budget: 300rs)\n* **Afternoon:** Take a stroll through **Jinnah Park**, a beautiful green space in the heart of Rawalpindi. Enjoy the fresh air and admire the well-maintained gardens. (Budget: Free)\n* **Evening:** Explore the vibrant **Raja Bazaar** area, famous for its street food. Sample delicious snacks like **\"Dahi Bhalay\"**, **\"Chaat\"**, and **\"Samosas\"** from various vendors. (Budget: 200rs)\n* **Dinner:** Head to **\"Butt Karahi\"** in Saddar for a taste of authentic Pakistani cuisine. Indulge in their famous Karahi dishes with naan bread. (Budget: 200rs)\n\n**Day 2:**\n\n* **Morning:** Visit the historical **Tomb of Shah Abdul Latif**, a beautiful architectural marvel and a place of religious significance. (Budget: Free)\n* **Afternoon:** Explore the **Rawalpindi Museum**, showcasing the rich history and culture of the city. Learn about the region's heritage through various artifacts and exhibits. (Budget: 100rs)\n* **Evening:** Enjoy a farewell dinner at **\"The Food Street\"**, a popular street food hub offering a wide variety of cuisines. Try some street food favorites like **\"Aloo Tikki\"**, **\"Gol Gappay\"**, and **\"Falooda\"**. (Budget: 200rs)\n\n**Notes:**\n\n* This itinerary is a suggestion and can be customized based on your interests and preferences.\n* You can adjust the budget allocation for different activities as per your needs.\n* Public transport in Rawalpindi is affordable and easily accessible.\n* Be sure to bargain at local markets and street food vendors.\n* Enjoy your culinary adventure in Rawalpindi! \n"
          },
          "metadata": {}
        }
      ]
    }
  ]
}